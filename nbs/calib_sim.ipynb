{
 "cells": [
  {
   "cell_type": "code",
   "execution_count": 1,
   "metadata": {},
   "outputs": [],
   "source": [
    "%load_ext autoreload\n",
    "%autoreload 2\n",
    "\n",
    "import numpy as np\n",
    "np.set_printoptions(suppress=True)\n",
    "import pickle\n",
    "import sys, os\n",
    "import time\n",
    "import libcamodocal\n",
    "import matplotlib.pyplot as plt\n",
    "import cv2\n",
    "import quaternion\n",
    "from IPython import display\n",
    "from IPython.display import clear_output\n",
    "import glob\n",
    "import calib_utils\n",
    "import calib\n",
    "import geo_utils"
   ]
  },
  {
   "cell_type": "code",
   "execution_count": 2,
   "metadata": {},
   "outputs": [
    {
     "name": "stdout",
     "output_type": "stream",
     "text": [
      "[[644.39996338   0.         639.5       ]\n",
      " [  0.         644.39996338 359.5       ]\n",
      " [  0.           0.           1.        ]]\n",
      "[[644.39996338   0.         639.5       ]\n",
      " [  0.         644.39996338 359.5       ]\n",
      " [  0.           0.           1.        ]]\n",
      "[[0. 0. 0. 0. 0.]]\n"
     ]
    }
   ],
   "source": [
    "# define cb pattern\n",
    "checker_data = {\"cb_pattern\": (5,6), \"cb_size\": .04}\n",
    "\n",
    "\n",
    "# load calib data\n",
    "calib_data = pickle.load( open(\"/home/ralfi/Desktop/calibdata_30_04_2022_14_21_57.pkl\", \"rb\" ))\n",
    "\n",
    "rgbs = calib_data['rgb']\n",
    "poses_urx = calib_data['poses']\n",
    "    \n",
    "# Setup Camera intrinsics\n",
    "criteria = (cv2.TERM_CRITERIA_EPS + cv2.TERM_CRITERIA_MAX_ITER, 10000, 0.0001)\n",
    "\n",
    "## HARDCODED CAM APRAMS \n",
    "# Setup Camera intrinsics\n",
    "K = calib_data['intr']\n",
    "dist = np.zeros((5,1))\n",
    "print(K)\n",
    "\n",
    "print(K)\n",
    "print(np.transpose(dist))\n",
    "\n",
    "#Setup HEC Solver\n",
    "setup = calib.calibrator.Setup(2)\n",
    "cgi_cal = calib.calibrator.HandEyeCalibrator(setup)"
   ]
  },
  {
   "cell_type": "code",
   "execution_count": 3,
   "metadata": {},
   "outputs": [
    {
     "data": {
      "text/plain": [
       "<matplotlib.image.AxesImage at 0x7f0ce4a51610>"
      ]
     },
     "execution_count": 3,
     "metadata": {},
     "output_type": "execute_result"
    },
    {
     "data": {
      "image/png": "[encoded data removed]",
      "text/plain": [
       "<Figure size 432x288 with 1 Axes>"
      ]
     },
     "metadata": {
      "needs_background": "light"
     },
     "output_type": "display_data"
    }
   ],
   "source": [
    "plt.imshow(rgbs[0][0])"
   ]
  },
  {
   "cell_type": "code",
   "execution_count": 4,
   "metadata": {
    "tags": []
   },
   "outputs": [],
   "source": [
    "N = len(rgbs)\n",
    "\n",
    "#Setup HEC Solver\n",
    "setup = calib.calibrator.Setup(2)\n",
    "cgi_cal = calib.calibrator.HandEyeCalibrator(setup)\n",
    "\n",
    "# Setup Marker\n",
    "marker_type = 'charuco'\n",
    "aruco_dict = cv2.aruco.Dictionary_get(cv2.aruco.DICT_4X4_50)\n",
    "board = cv2.aruco.CharucoBoard_create(7, 6, 0.04, 0.031, aruco_dict)\n",
    "\n",
    "# lists for graph hand eye\n",
    "list_points_2d, obj_poses, obj_poses_inv, hand_poses, hand_poses_inv = [], [], [], [], []\n",
    "\n",
    "for i in range(N):\n",
    "    \n",
    "    frames = np.array(rgbs[i])\n",
    "    #frames = np.array(rgbs[i][0])\n",
    "    #calculate cam_pose\n",
    "    \n",
    "    #p_tvec_median, p_rvec_median, homTF_obj, corners_median, c_corner_median, points_2d_median, imgs = calib_utils.estimate_cam_pose_charuco(frames, K, dist, board, aruco_dict, debug = False)\n",
    "    p_tvec_median, p_rvec_median, obj_homTF, corner_img_all, corner_img_all = calib_utils.estimate_cam_pose_checker(frames, K, dist, checker_data, dist, criteria, debug = True)\n",
    "    if(len(p_tvec_median)==0 and len(p_rvec_median)==0):\n",
    "        continue\n",
    "    \n",
    "    #review and skip \n",
    "    if False:\n",
    "        if (not calib_utils.review_img(corner_img_all[0])):\n",
    "            continue\n",
    "        \n",
    "    \n",
    "    #calculate hand psoe\n",
    "    pose_homTF = geo_utils.pose7d2homTF(poses_urx[i][0])\n",
    "    pose_homTF_inv = np.linalg.inv(pose_homTF)\n",
    "    obj_homTF_inv = np.linalg.inv(obj_homTF)\n",
    "        \n",
    "    if True:\n",
    "        obj_poses.append(obj_homTF)\n",
    "        obj_poses_inv.append(obj_homTF_inv)\n",
    "        hand_poses.append(pose_homTF)\n",
    "        hand_poses_inv.append(pose_homTF_inv)\n",
    "    \n",
    "        cgi_cal.add_sample(pose_homTF_inv, obj_homTF)"
   ]
  },
  {
   "cell_type": "code",
   "execution_count": 13,
   "metadata": {},
   "outputs": [
    {
     "name": "stdout",
     "output_type": "stream",
     "text": [
      "CPU times: user 155 ms, sys: 0 ns, total: 155 ms\n",
      "Wall time: 159 ms\n",
      "[[1831.05111313    0.          434.7039792 ]\n",
      " [   0.         1573.26811562  484.91770436]\n",
      " [   0.            0.            1.        ]]\n"
     ]
    }
   ],
   "source": [
    "# MAIN\n",
    "import camera_calib_utils\n",
    "\n",
    "np.set_printoptions(suppress=True)\n",
    "\n",
    "allCorners, objectPointsArray, imsize = camera_calib_utils.read_checker_board(rgbs, checker_data)\n",
    "    \n",
    "%time ret, mtx, dist, rvecs, tvecs =  camera_calib_utils.calibrate_checker_camera(allCorners, objectPointsArray, imsize, init_guess = False)\n",
    "\n",
    "\n",
    "print(mtx)\n",
    "    "
   ]
  },
  {
   "cell_type": "code",
   "execution_count": 5,
   "metadata": {},
   "outputs": [
    {
     "name": "stdout",
     "output_type": "stream",
     "text": [
      "dani\n",
      " [[ 0.00725767 -0.99997329 -0.000868    0.49915179]\n",
      " [-0.99997363 -0.00725789  0.00025873  0.00002337]\n",
      " [-0.00026503  0.0008661  -0.99999959  0.9994181 ]\n",
      " [ 0.          0.          0.          1.        ]]\n",
      "tsai\n",
      " [[ 0.11589346 -0.99256884 -0.0370919   0.49510894]\n",
      " [-0.99325926 -0.1158942  -0.00213744  0.00698673]\n",
      " [-0.00217718  0.03708959 -0.99930957  0.99024014]\n",
      " [ 0.          0.          0.          1.        ]]\n",
      "park\n",
      " [[ 0.00606003 -0.99998164 -0.00001844  0.49936141]\n",
      " [-0.99998148 -0.00606001 -0.00057041  0.00158388]\n",
      " [ 0.00057028  0.0000219  -0.99999984  1.00571926]\n",
      " [ 0.          0.          0.          1.        ]]\n"
     ]
    }
   ],
   "source": [
    "dani = cgi_cal.solve(calib.solver.Daniilidis1999)\n",
    "print(\"dani\\n\", dani)\n",
    "\n",
    "tsai = cgi_cal.solve(calib.solver.TsaiLenz1989)\n",
    "print(\"tsai\\n\", tsai)\n",
    "\n",
    "park = cgi_cal.solve(calib.solver.ParkBryan1994)\n",
    "print(\"park\\n\", park)"
   ]
  },
  {
   "cell_type": "code",
   "execution_count": 6,
   "metadata": {},
   "outputs": [
    {
     "name": "stdout",
     "output_type": "stream",
     "text": [
      "dani\n",
      " [ 0.49915179  0.00002337  0.9994181  -0.00021396 -0.70966808  0.70453602\n",
      "  0.00039914]\n",
      "tsai\n",
      " [ 0.49510894  0.00698673  0.99024014 -0.01313095 -0.7468429   0.66474091\n",
      "  0.01314503]\n",
      "park\n",
      " [ 0.49936141  0.00158388  1.00571926 -0.00020878 -0.70924606  0.70496096\n",
      " -0.00019452]\n"
     ]
    }
   ],
   "source": [
    "print(\"dani\\n\", geo_utils.homTF2pose7d(dani))\n",
    "\n",
    "print(\"tsai\\n\", geo_utils.homTF2pose7d(tsai))\n",
    "\n",
    "print(\"park\\n\", geo_utils.homTF2pose7d(park))\n"
   ]
  },
  {
   "cell_type": "code",
   "execution_count": 6,
   "metadata": {},
   "outputs": [
    {
     "data": {
      "text/plain": [
       "array([[-0.00725767, -0.00002671,  0.000868  ,  0.00084821],\n",
       "       [-0.00002637,  0.00725789, -0.00025873, -0.00002337],\n",
       "       [ 0.00026503, -0.0008661 , -0.00000041,  0.0005819 ],\n",
       "       [ 0.        ,  0.        ,  0.        ,  0.        ]])"
      ]
     },
     "execution_count": 6,
     "metadata": {},
     "output_type": "execute_result"
    }
   ],
   "source": [
    "geo_utils.pose7d2homTF(calib_data['ground_truth']) - dani"
   ]
  },
  {
   "cell_type": "code",
   "execution_count": 8,
   "metadata": {},
   "outputs": [
    {
     "name": "stdout",
     "output_type": "stream",
     "text": [
      "[[-0.38981148 -0.44724611  0.80499561  0.74739815]\n",
      " [ 0.47263134  0.65307208  0.59170641  0.15373014]\n",
      " [-0.79035855  0.6111201  -0.04319247  0.2593431 ]\n",
      " [ 0.          0.          0.          1.        ]]\n"
     ]
    }
   ],
   "source": [
    "lol = libcamodocal.py_camodocal_calibration(hand_poses, obj_poses, {}, False)\n",
    "print(lol)"
   ]
  },
  {
   "cell_type": "code",
   "execution_count": 9,
   "metadata": {},
   "outputs": [
    {
     "data": {
      "text/plain": [
       "array([[-0.38981148,  0.47263134, -0.79035855,  0.42366074],\n",
       "       [-0.44724611,  0.65307208,  0.6111201 ,  0.07538427],\n",
       "       [ 0.80499561,  0.59170641, -0.04319247, -0.68141367],\n",
       "       [ 0.        ,  0.        ,  0.        ,  1.        ]])"
      ]
     },
     "execution_count": 9,
     "metadata": {},
     "output_type": "execute_result"
    }
   ],
   "source": [
    "np.linalg.inv(lol)"
   ]
  },
  {
   "cell_type": "code",
   "execution_count": 10,
   "metadata": {},
   "outputs": [],
   "source": [
    "# generate pattern_3d\n",
    "cb_pattern = (5, 6)\n",
    "pattern_3d = np.zeros((np.prod(cb_pattern), 3), np.float32)\n",
    "pattern_3d[:, :2] = np.indices(cb_pattern).T.reshape(-1, 2)\n",
    "pattern_3d *= cb_size\n",
    "pattern_3d = np.transpose(pattern_3d)"
   ]
  },
  {
   "cell_type": "code",
   "execution_count": 11,
   "metadata": {},
   "outputs": [
    {
     "ename": "AttributeError",
     "evalue": "module 'calib' has no attribute 'py_spatial_calibration_graph'",
     "output_type": "error",
     "traceback": [
      "\u001b[0;31m---------------------------------------------------------------------------\u001b[0m",
      "\u001b[0;31mAttributeError\u001b[0m                            Traceback (most recent call last)",
      "Input \u001b[0;32mIn [11]\u001b[0m, in \u001b[0;36m<cell line: 19>\u001b[0;34m()\u001b[0m\n\u001b[1;32m     15\u001b[0m init_hand2eye \u001b[38;5;241m=\u001b[39m park\n\u001b[1;32m     17\u001b[0m \u001b[38;5;66;03m#hand2eye_visp, object2world_visp = cb.py_spatial_calibration_graph(K, pattern_3d, list_hand_pose_rotm, list_points_2d, init_hand2eye, init_object2world, True, params)\u001b[39;00m\n\u001b[0;32m---> 19\u001b[0m hand2eye_graph, object2world_graph \u001b[38;5;241m=\u001b[39m \u001b[43mcalib\u001b[49m\u001b[38;5;241;43m.\u001b[39;49m\u001b[43mpy_spatial_calibration_graph\u001b[49m(K, pattern_3d, hand_poses_inv, list_points_2d, init_hand2eye, init_object2world, \u001b[38;5;28;01mTrue\u001b[39;00m, params)\n\u001b[1;32m     22\u001b[0m \u001b[38;5;28mprint\u001b[39m(\u001b[38;5;124m'\u001b[39m\u001b[38;5;124minit park:\u001b[39m\u001b[38;5;124m'\u001b[39m)\n\u001b[1;32m     23\u001b[0m \u001b[38;5;28mprint\u001b[39m(park)\n",
      "\u001b[0;31mAttributeError\u001b[0m: module 'calib' has no attribute 'py_spatial_calibration_graph'"
     ]
    }
   ],
   "source": [
    "# setup pars\n",
    "params={}\n",
    "params['pattern2d_inf_scale'] = 1e-6\n",
    "params['world2hand_inf_scale_trans'] = 1e-6\n",
    "params['world2hand_inf_scale_rot'] = 1\n",
    "params['num_iterations'] = 1000*8192\n",
    "params['solver_name'] = \"lm_var_cholmod\"\n",
    "params['robust_kernel_handpose'] = \"Huber\"\n",
    "params['robust_kernel_projection'] = \"Huber\"\n",
    "params['robust_kernel_handpose_delta'] = 1e-6\n",
    "params['robust_kernel_projection_delta'] = 1e-6\n",
    "\n",
    "init_object2world = np.eye(4)\n",
    "\n",
    "init_hand2eye = park\n",
    "\n",
    "#hand2eye_visp, object2world_visp = cb.py_spatial_calibration_graph(K, pattern_3d, list_hand_pose_rotm, list_points_2d, init_hand2eye, init_object2world, True, params)\n",
    "\n",
    "hand2eye_graph, object2world_graph = calib.py_spatial_calibration_graph(K, pattern_3d, hand_poses_inv, list_points_2d, init_hand2eye, init_object2world, True, params)\n",
    "\n",
    "\n",
    "print('init park:')\n",
    "print(park)\n",
    "print('hand2eye_graph:')\n",
    "print(hand2eye_graph)\n",
    "print('hand2eye_graph inv:')\n",
    "print(np.linalg.inv(hand2eye_graph))\n",
    "#print('object2world_graph:')\n",
    "#print(object2world_graph)\n",
    "\n",
    "#diff = abs(np.linalg.inv(hand2eye_graph) - calib_utils.pose7d2homTF(calib_data['ground_truth']))\n",
    "#print('diff:')\n",
    "#print(diff)"
   ]
  },
  {
   "cell_type": "code",
   "execution_count": null,
   "metadata": {},
   "outputs": [],
   "source": [
    "pwd"
   ]
  },
  {
   "cell_type": "code",
   "execution_count": null,
   "metadata": {},
   "outputs": [],
   "source": []
  }
 ],
 "metadata": {
  "kernelspec": {
   "display_name": "Python 3 (ipykernel)",
   "language": "python",
   "name": "python3"
  },
  "language_info": {
   "codemirror_mode": {
    "name": "ipython",
    "version": 3
   },
   "file_extension": ".py",
   "mimetype": "text/x-python",
   "name": "python",
   "nbconvert_exporter": "python",
   "pygments_lexer": "ipython3",
   "version": "3.8.10"
  }
 },
 "nbformat": 4,
 "nbformat_minor": 4
}
